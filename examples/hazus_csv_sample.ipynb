{
 "cells": [
  {
   "cell_type": "code",
   "execution_count": null,
   "metadata": {
    "id": "kg-3rakckfJm"
   },
   "outputs": [],
   "source": [
    "!pip install -q niyamit-sphere"
   ]
  },
  {
   "cell_type": "code",
   "execution_count": null,
   "metadata": {
    "id": "3jNQUGK1kjHE"
   },
   "outputs": [],
   "source": [
    "!wget \"https://raw.githubusercontent.com/Niyam-Projects/sphere/refs/heads/main/examples/HI_Honolulu_UDF_sample.csv\"\n",
    "!wget \"https://raw.githubusercontent.com/Niyam-Projects/sphere/refs/heads/main/examples/Oahu_10_withReef.tif\"\n",
    "!wget \"https://raw.githubusercontent.com/Niyam-Projects/sphere/refs/heads/main/examples/Oahu_10_withReef.tfw\""
   ]
  },
  {
   "cell_type": "code",
   "execution_count": null,
   "metadata": {
    "id": "c646c2fc"
   },
   "outputs": [],
   "source": [
    "import time\n",
    "from pathlib import Path\n",
    "import pandas as pd\n",
    "from sphere.core.schemas.fast_buildings import FastBuildings\n",
    "from sphere.flood.analysis.hazus_flood import HazusFloodAnalysis\n",
    "from sphere.flood.single_value_reader import SingleValueRaster\n",
    "from sphere.flood.default_vulnerability import DefaultFloodVulnerability\n",
    "\n",
    "# Define file paths (adjust these paths as necessary)\n",
    "# The base directory is set to the content folder since the files are located there\n",
    "base_dir = Path(\"/content\")\n",
    "buildings_csv = base_dir / \"HI_Honolulu_UDF_sample.csv\"\n",
    "tif_file = base_dir / \"Oahu_10_withReef.tif\""
   ]
  },
  {
   "cell_type": "code",
   "execution_count": null,
   "metadata": {
    "id": "33948ff8"
   },
   "outputs": [],
   "source": [
    "# Load buildings data from CSV\n",
    "buildings = FastBuildings(str(buildings_csv))\n",
    "display(buildings.gdf.head())"
   ]
  },
  {
   "cell_type": "code",
   "execution_count": null,
   "metadata": {
    "id": "9807d63b"
   },
   "outputs": [],
   "source": [
    "# Read the depth grid from the TIFF file\n",
    "depth_grid = SingleValueRaster(str(tif_file))\n",
    "# Depending on the SingleValueRaster object structure, you might want to display\n",
    "# some information about the loaded raster, e.g., its extent or values.\n",
    "# For now, we'll just confirm it's loaded.\n",
    "print(\"Depth grid loaded successfully.\")"
   ]
  },
  {
   "cell_type": "code",
   "execution_count": null,
   "metadata": {
    "id": "9906cc74"
   },
   "outputs": [],
   "source": [
    "# Create an instance of the default flood function\n",
    "flood_function = DefaultFloodVulnerability(buildings, flood_type=\"R\")\n",
    "print(\"Flood vulnerability function created.\")"
   ]
  },
  {
   "cell_type": "code",
   "execution_count": null,
   "metadata": {
    "id": "1a4ec6ce"
   },
   "outputs": [],
   "source": [
    "# Create the Hazus flood analyzer instance.\n",
    "# (Assumes that HazusFloodAnalyzer accepts buildings DataFrame, depth grid, the flood function,\n",
    "# and geospatial metadata like transform and crs.)\n",
    "analyzer = HazusFloodAnalysis(\n",
    "    buildings=buildings,\n",
    "    vulnerability_func=flood_function,\n",
    "    depth_grid=depth_grid,\n",
    ")\n",
    "print(\"Hazus flood analyzer created.\")"
   ]
  },
  {
   "cell_type": "code",
   "execution_count": null,
   "metadata": {
    "id": "96672875"
   },
   "outputs": [],
   "source": [
    "start_time = time.time()\n",
    "# Calculate losses using the analysis\n",
    "analyzer.calculate_losses()  # Expected to return a DataFrame\n",
    "end_time = time.time()\n",
    "elapsed_time = end_time - start_time\n",
    "print(f\"Calculation time: {elapsed_time:.6f} seconds\")"
   ]
  },
  {
   "cell_type": "code",
   "execution_count": null,
   "metadata": {
    "id": "93bc2613"
   },
   "outputs": [],
   "source": [
    "# Save the results to a CSV file\n",
    "results_csv = base_dir / \"flood_losses.csv\"\n",
    "buildings.gdf.to_csv(results_csv, index=False)\n",
    "\n",
    "print(f\"Flood analysis complete. Results saved to: {results_csv}\")\n",
    "display(buildings.gdf.head())"
   ]
  },
  {
   "cell_type": "markdown",
   "metadata": {},
   "source": [
    "The results will be in the flood_losses.csv file.  Not every row will have estimates as some of the sample data is outside the flood extent."
   ]
  }
 ],
 "metadata": {
  "colab": {
   "provenance": []
  },
  "kernelspec": {
   "display_name": "Python 3",
   "name": "python3"
  },
  "language_info": {
   "name": "python"
  }
 },
 "nbformat": 4,
 "nbformat_minor": 0
}
